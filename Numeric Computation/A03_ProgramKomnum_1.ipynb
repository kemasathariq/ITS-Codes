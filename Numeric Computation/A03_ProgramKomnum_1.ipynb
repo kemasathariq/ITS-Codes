{
 "cells": [
  {
   "cell_type": "markdown",
   "id": "ac14f0a5",
   "metadata": {},
   "source": [
    "# SOAL NO 1 TUGAS PROGRAM KOMNUM\n",
    "## Kelompok A03"
   ]
  },
  {
   "cell_type": "code",
   "execution_count": 10,
   "id": "f479eb03-37ef-4ebc-a89a-e86f31c31ebd",
   "metadata": {},
   "outputs": [],
   "source": [
    "import numpy as np \n",
    "from sympy import *"
   ]
  },
  {
   "cell_type": "code",
   "execution_count": 9,
   "id": "951aa917-530b-49ef-8d48-174a16983704",
   "metadata": {},
   "outputs": [],
   "source": [
    "def error_true(x_real, xr):\n",
    "    return abs((x_real - xr) / x_real) * 100\n",
    "\n",
    "def error_aprox(xr, xr_old):\n",
    "    return abs((xr - xr_old) / xr) * 100 if xr != 0 else float('inf') \n",
    "\n",
    "def bagi_dua(xl, xu, x_real, f):\n",
    "    x = symbols('x')\n",
    "    xr_old = 0\n",
    "    i = 0\n",
    "    \n",
    "    while True:\n",
    "        xr = round((xl + xu) / 2, 2)\n",
    "        f_xl = f.subs(x, xl).evalf()\n",
    "        f_xr = f.subs(x, xr).evalf()\n",
    "\n",
    "        et_value = round(error_true(x_real, xr), 2)\n",
    "        \n",
    "        if f_xl * f_xr < 0:\n",
    "            xu = xr\n",
    "        elif f_xl * f_xr > 0:\n",
    "            xl = xr\n",
    "        else:\n",
    "            if i == 0:\n",
    "                print(f\"iterasi {i+1}: xr = {xr}, Et = {et_value}, Ea = Belum bisa dicari\")\n",
    "            else:\n",
    "                ea_value = round(error_aprox(xr, xr_old), 2)\n",
    "                print(f\"iterasi {i+1}: xr = {xr}, Et = {et_value}, Ea = {ea_value}\")\n",
    "            break \n",
    "\n",
    "        if i == 0:\n",
    "            print(f\"iterasi {i+1}: xr = {xr}, Et = {et_value}, Ea = Belum bisa dicari\")\n",
    "        else:\n",
    "            ea_value = round(error_aprox(xr, xr_old), 2)\n",
    "            print(f\"iterasi {i+1}: xr = {xr}, Et = {et_value}, Ea = {ea_value}\")\n",
    "        if 0 <= et_value < 1:\n",
    "            break\n",
    "        xr_old = xr\n",
    "        i+=1"
   ]
  },
  {
   "cell_type": "code",
   "execution_count": 12,
   "id": "21a14550-ea09-4ebd-83a8-eb284c744292",
   "metadata": {},
   "outputs": [
    {
     "name": "stdout",
     "output_type": "stream",
     "text": [
      "iterasi 1: xr = 1.5, Et = 62.5, Ea = Belum bisa dicari\n",
      "iterasi 2: xr = 4.75, Et = 18.75, Ea = 68.42\n",
      "iterasi 3: xr = 3.12, Et = 22.0, Ea = 52.24\n",
      "iterasi 4: xr = 3.94, Et = 1.5, Ea = 20.81\n",
      "iterasi 5: xr = 4.34, Et = 8.5, Ea = 9.22\n",
      "iterasi 6: xr = 4.14, Et = 3.5, Ea = 4.83\n",
      "iterasi 7: xr = 4.04, Et = 1.0, Ea = 2.48\n",
      "iterasi 8: xr = 3.99, Et = 0.25, Ea = 1.25\n"
     ]
    }
   ],
   "source": [
    "# f = x**3 + 10*x**2 - 7*x - 196\n",
    "# xl = -5\n",
    "# xu = 8\n",
    "# x_real = 4\n",
    "\n",
    "f = input(\"Masukkan fungsi f(x) nya: \")\n",
    "f = sympify(f)\n",
    "xl = float(input(\"Masukkan batas bawahnya (XL): \"))\n",
    "xu = float(input(\"Masukkan batas atasnya (XU): \"))\n",
    "x_real = float(input(\"Masukkan X sebenarnya: \"))\n",
    "bagi_dua(xl, xu, x_real, f)\n",
    "\n"
   ]
  }
 ],
 "metadata": {
  "kernelspec": {
   "display_name": "Python 3",
   "language": "python",
   "name": "python3"
  },
  "language_info": {
   "codemirror_mode": {
    "name": "ipython",
    "version": 3
   },
   "file_extension": ".py",
   "mimetype": "text/x-python",
   "name": "python",
   "nbconvert_exporter": "python",
   "pygments_lexer": "ipython3",
   "version": "3.12.6"
  }
 },
 "nbformat": 4,
 "nbformat_minor": 5
}
